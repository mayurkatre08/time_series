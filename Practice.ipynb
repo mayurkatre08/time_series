{
 "cells": [
  {
   "cell_type": "code",
   "execution_count": 42,
   "id": "c758f69a",
   "metadata": {},
   "outputs": [
    {
     "name": "stdout",
     "output_type": "stream",
     "text": [
      "2\n"
     ]
    },
    {
     "data": {
      "text/plain": [
       "'zero'"
      ]
     },
     "execution_count": 42,
     "metadata": {},
     "output_type": "execute_result"
    }
   ],
   "source": [
    "# Write a program that prints the integers from 1 to 100.\n",
    "\n",
    "# But for multiples of three print \"Fizz\" instead of the number, and for the multiples of five print \"Buzz\".\n",
    "# For numbers which are multiples of both three and five print \"FizzBuzz\"."
   ]
  },
  {
   "cell_type": "code",
   "execution_count": null,
   "id": "d37c6526",
   "metadata": {},
   "outputs": [],
   "source": [
    "# Write a function 'what_sign' which returns 'Positive' 'Zero' or 'Negative' when given a number\n",
    "\n",
    "def what_sign(a):\n",
    "        if a > 0:\n",
    "            return 'Positive'\n",
    "        elif a < 0:\n",
    "            return 'Negative'\n",
    "        else:\n",
    "            return 'zero'\n",
    "a = int(input())\n",
    "what_sign(a)"
   ]
  },
  {
   "cell_type": "code",
   "execution_count": 20,
   "id": "19042904",
   "metadata": {},
   "outputs": [
    {
     "name": "stdout",
     "output_type": "stream",
     "text": [
      "0\n",
      "1\n",
      "2\n",
      "3\n",
      "4\n",
      "5\n",
      "6\n",
      "7\n",
      "8\n",
      "9\n"
     ]
    }
   ],
   "source": [
    "lst = ['Zero', 'One', 'Two', 'Three', 'Four', 'Five', 'Six', 'Seven', 'Eight', 'Nine']\n",
    "dic = {}\n",
    "for i in range(len(lst)):\n",
    "    print(i)"
   ]
  },
  {
   "cell_type": "code",
   "execution_count": 28,
   "id": "a0da7895",
   "metadata": {},
   "outputs": [
    {
     "name": "stdout",
     "output_type": "stream",
     "text": [
      "{0: 'Zero', 1: 'One', 2: 'Two', 3: 'Three', 4: 'Four', 5: 'Five', 6: 'Six', 7: 'Seven', 8: 'Eight', 9: 'Nine'}\n"
     ]
    }
   ],
   "source": [
    "lst = ['Zero', 'One', 'Two', 'Three', 'Four', 'Five', 'Six', 'Seven', 'Eight', 'Nine']\n",
    "dic = {}\n",
    "for k,v in enumerate(lst):\n",
    "    dic[k] = v\n",
    "print(dic)\n",
    "    "
   ]
  },
  {
   "cell_type": "code",
   "execution_count": 9,
   "id": "6003ee9a",
   "metadata": {},
   "outputs": [
    {
     "name": "stdout",
     "output_type": "stream",
     "text": [
      "None\n",
      "[-9, 0, 3, 4, 21]\n"
     ]
    }
   ],
   "source": [
    "lst = [4, 3, -9, 21, 0]\n",
    "\n",
    "print(lst)"
   ]
  },
  {
   "cell_type": "code",
   "execution_count": 8,
   "id": "0cffb358",
   "metadata": {},
   "outputs": [
    {
     "name": "stdout",
     "output_type": "stream",
     "text": [
      "['BMW', 'Ford', 'Volvo']\n"
     ]
    }
   ],
   "source": [
    "cars = ['Ford', 'BMW', 'Volvo']\n",
    "\n",
    "cars.sort()\n",
    "print(cars)"
   ]
  },
  {
   "cell_type": "code",
   "execution_count": null,
   "id": "c13741d4",
   "metadata": {},
   "outputs": [],
   "source": []
  },
  {
   "cell_type": "code",
   "execution_count": 11,
   "id": "6fea8958",
   "metadata": {},
   "outputs": [
    {
     "data": {
      "text/plain": [
       "[3, 6, 9, 12, 15, 18, 21, 24, 27, 30]"
      ]
     },
     "execution_count": 11,
     "metadata": {},
     "output_type": "execute_result"
    }
   ],
   "source": [
    "sqr(3)"
   ]
  },
  {
   "cell_type": "code",
   "execution_count": 15,
   "id": "5d7ebf3f",
   "metadata": {},
   "outputs": [
    {
     "name": "stdout",
     "output_type": "stream",
     "text": [
      "=====================================\n",
      "Order number: 111\n",
      "Preparing pizza with size 10 inches.\n",
      "Adding the following toppings to the pizza.\n",
      " - green chilly\n",
      " - Italian sausage\n",
      "delivery_type : Home\n",
      "address : #71, abc road\n",
      "=====================================\n",
      "=====================================\n",
      "Order number: 112\n",
      "Preparing pizza with size 7 inches.\n",
      "Adding the following toppings to the pizza.\n",
      " - green chilly\n",
      " - mushroom\n",
      " - extra cheese\n",
      "delivery_type : table\n",
      "table_number : 12\n",
      "=====================================\n"
     ]
    }
   ],
   "source": [
    "def get_pizza_order(order_num, size, *args, **kwargs):\n",
    "    print(f\"=====================================\")\n",
    "    print(f\"Order number: {order_num}\")\n",
    "    print(f\"Preparing pizza with size {size} inches.\")\n",
    "\n",
    "    print(\"Adding the following toppings to the pizza.\")\n",
    "    for topping in args:\n",
    "        print(f\" - {topping}\")\n",
    "\n",
    "    for k, v in kwargs.items():\n",
    "        print(f\"{k} : {v}\")\n",
    "    print(f\"=====================================\")\n",
    "\n",
    "\n",
    "toppings = ('green chilly', 'mushroom', 'extra cheese',\n",
    "            'extra paneer', 'Italian sausage', 'pepperoni')\n",
    "\n",
    "order_3 = get_pizza_order(\n",
    "    111, 10, 'green chilly', 'Italian sausage', delivery_type=\"Home\", address=\"#71, abc road\")\n",
    "order_4 = get_pizza_order(\n",
    "    112, 7, 'green chilly', 'mushroom', 'extra cheese', delivery_type=\"table\", table_number=12)"
   ]
  },
  {
   "cell_type": "code",
   "execution_count": 38,
   "id": "96727c76",
   "metadata": {},
   "outputs": [
    {
     "name": "stdout",
     "output_type": "stream",
     "text": [
      "*\n",
      "**\n",
      "***\n",
      "****\n",
      "*****\n",
      "******\n",
      "*****\n",
      "****\n",
      "***\n",
      "**\n",
      "*\n",
      "\n"
     ]
    }
   ],
   "source": [
    "for i in range(1,7):\n",
    "    print(i * ('*'))\n",
    "for j in range(-5, 1):\n",
    "    print(abs(j) * ('*'))"
   ]
  },
  {
   "cell_type": "code",
   "execution_count": 49,
   "id": "8cffb77e",
   "metadata": {},
   "outputs": [
    {
     "name": "stdout",
     "output_type": "stream",
     "text": [
      "*****\n",
      "****\n",
      "***\n",
      "**\n",
      "*\n",
      "\n"
     ]
    }
   ],
   "source": [
    "for i in range(-5, 1):\n",
    "    print(abs(i) * \"*\")"
   ]
  },
  {
   "cell_type": "code",
   "execution_count": 74,
   "id": "5f719d85",
   "metadata": {},
   "outputs": [
    {
     "name": "stdout",
     "output_type": "stream",
     "text": [
      " \n",
      " \n",
      " \n",
      " \n"
     ]
    }
   ],
   "source": [
    "for i in range(1,5):\n",
    "    print(\" \")"
   ]
  },
  {
   "cell_type": "code",
   "execution_count": 122,
   "id": "ccf219a9",
   "metadata": {},
   "outputs": [
    {
     "name": "stdout",
     "output_type": "stream",
     "text": [
      "*\n",
      "**\n",
      "***\n",
      "****\n",
      "\n",
      "\n",
      "\n",
      "\n"
     ]
    }
   ],
   "source": [
    "for i in range(1,5):\n",
    "    print(abs(i) * \"*\")\n",
    "for i in range(1,5):\n",
    "    print(-i * \"-\")"
   ]
  },
  {
   "cell_type": "code",
   "execution_count": 124,
   "id": "e56b5786",
   "metadata": {},
   "outputs": [
    {
     "name": "stdout",
     "output_type": "stream",
     "text": [
      "****\n",
      "****\n",
      "****\n",
      "****\n"
     ]
    }
   ],
   "source": [
    "def square_pattern(n):\n",
    "    for i in range(n):\n",
    "        print('*' * n)\n",
    "\n",
    "# Example usage\n",
    "square_pattern(4)\n"
   ]
  },
  {
   "cell_type": "code",
   "execution_count": 120,
   "id": "fec51fe1",
   "metadata": {},
   "outputs": [
    {
     "name": "stdout",
     "output_type": "stream",
     "text": [
      "*****\n",
      "****\n",
      "***\n",
      "**\n",
      "*\n"
     ]
    }
   ],
   "source": [
    "for i in range(5,0, -1):\n",
    "    print(i * '*')"
   ]
  },
  {
   "cell_type": "code",
   "execution_count": 115,
   "id": "ee346b82",
   "metadata": {},
   "outputs": [
    {
     "name": "stdout",
     "output_type": "stream",
     "text": [
      "*\n",
      "**\n",
      "***\n",
      "****\n"
     ]
    }
   ],
   "source": [
    "n = 5\n",
    "for i in range(1,5):\n",
    "    print(i * \"*\")\n",
    "    "
   ]
  },
  {
   "cell_type": "code",
   "execution_count": 126,
   "id": "dee44044",
   "metadata": {},
   "outputs": [
    {
     "name": "stdout",
     "output_type": "stream",
     "text": [
      "*****\n",
      " ****\n",
      "  ***\n",
      "   **\n",
      "    *\n"
     ]
    }
   ],
   "source": [
    "n = 5\n",
    "for i in range(n,0,-1):\n",
    "    print(' ' * (n-i) + i * '*')"
   ]
  },
  {
   "cell_type": "code",
   "execution_count": 147,
   "id": "c62f796a",
   "metadata": {},
   "outputs": [
    {
     "name": "stdout",
     "output_type": "stream",
     "text": [
      "      \n",
      "    * *\n",
      "   ** **\n",
      "  *** ***\n",
      " **** ****\n"
     ]
    }
   ],
   "source": [
    "n = 5\n",
    "for i in range(n):\n",
    "    print(' ' * (n-i) + i * \"*\", i * \"*\")"
   ]
  },
  {
   "cell_type": "code",
   "execution_count": 153,
   "id": "352741f7",
   "metadata": {},
   "outputs": [
    {
     "name": "stdout",
     "output_type": "stream",
     "text": [
      "***********\n",
      " *********\n",
      "  *******\n",
      "   *****\n",
      "    ***\n",
      "     *\n"
     ]
    }
   ],
   "source": [
    "def inverted_pyramid_pattern(n):\n",
    "    for i in range(n):\n",
    "        print(' ' * i + '*' * (2 * (n - i) - 1))\n",
    "\n",
    "# Example usage\n",
    "inverted_pyramid_pattern(6)"
   ]
  },
  {
   "cell_type": "code",
   "execution_count": 123,
   "id": "7456deae",
   "metadata": {},
   "outputs": [
    {
     "name": "stdout",
     "output_type": "stream",
     "text": [
      "****\n",
      " ***\n",
      "  **\n",
      "   *\n"
     ]
    }
   ],
   "source": [
    "def inverted_right_aligned_triangle(n):\n",
    "    for i in range(n, 0, -1):\n",
    "        print(' ' * (n - i) + '*' * i)\n",
    "\n",
    "# Example usage\n",
    "inverted_right_aligned_triangle(4)\n"
   ]
  },
  {
   "cell_type": "code",
   "execution_count": 97,
   "id": "4b3f98a3",
   "metadata": {},
   "outputs": [
    {
     "name": "stdout",
     "output_type": "stream",
     "text": [
      "****\n",
      "***\n",
      "**\n",
      "*\n"
     ]
    }
   ],
   "source": [
    "for i in range(4,0, -1):\n",
    "    print(i*\"*\")"
   ]
  },
  {
   "cell_type": "code",
   "execution_count": 35,
   "id": "d5e87ccb",
   "metadata": {},
   "outputs": [
    {
     "name": "stdout",
     "output_type": "stream",
     "text": [
      "*****\n",
      "****\n",
      "***\n",
      "**\n",
      "*\n",
      "\n"
     ]
    }
   ],
   "source": [
    "for i in range(-5, 1):\n",
    "    print(abs(i) * ('*'))"
   ]
  },
  {
   "cell_type": "code",
   "execution_count": 23,
   "id": "c5cb111d",
   "metadata": {},
   "outputs": [
    {
     "name": "stdout",
     "output_type": "stream",
     "text": [
      "[6, 4, 6, 2, 3]\n"
     ]
    }
   ],
   "source": [
    "# Python program to interchange first and last elements in a list.\n",
    "\n",
    "lis = [3,4,6,2,6]\n",
    "\n",
    "\n",
    "lis[0], lis[-1] = lis[-1] , lis[0]\n",
    "print(lis)"
   ]
  },
  {
   "cell_type": "code",
   "execution_count": 22,
   "id": "0a93f778",
   "metadata": {},
   "outputs": [
    {
     "data": {
      "text/plain": [
       "['Velocity', 'Gondia', 'Science', 'Pune', 'Python']"
      ]
     },
     "execution_count": 22,
     "metadata": {},
     "output_type": "execute_result"
    }
   ],
   "source": [
    "list1 = [\"Python\", \"Gondia\", \"Science\", \"Pune\", \"Velocity\"]\n",
    "\n",
    "# by string slicing\n",
    "\n",
    "#list1[-1]\n",
    "#list1[0]\n",
    "\n",
    "list1[0],list1[-1] = list1[-1],list1[0]\n",
    "list1"
   ]
  },
  {
   "cell_type": "code",
   "execution_count": 25,
   "id": "0587ae22",
   "metadata": {},
   "outputs": [
    {
     "data": {
      "text/plain": [
       "[3, 4, 6, 5]"
      ]
     },
     "execution_count": 25,
     "metadata": {},
     "output_type": "execute_result"
    }
   ],
   "source": [
    "# Python program to swap two elements in a list\n",
    "lis = [3,6,4,5]\n",
    "lis[1],lis[2] = lis[2], lis[1]\n",
    "lis"
   ]
  },
  {
   "cell_type": "code",
   "execution_count": 29,
   "id": "5abbd5ca",
   "metadata": {},
   "outputs": [
    {
     "name": "stdout",
     "output_type": "stream",
     "text": [
      "1\n",
      "1\n",
      "1\n",
      "2\n",
      "1\n",
      "1\n",
      "2\n",
      "1\n",
      "1\n"
     ]
    }
   ],
   "source": [
    "#  Python program to count occurrences of an element in a list\n",
    "lis = [1,2,3,4,44,5,4, \"Cutie\", \"cutie\"]\n",
    "\n",
    "count = 0\n",
    "for i in lis:\n",
    "    count+=1\n",
    "    print(lis.count(i))"
   ]
  },
  {
   "cell_type": "code",
   "execution_count": 33,
   "id": "bdc4a2f8",
   "metadata": {},
   "outputs": [
    {
     "name": "stdout",
     "output_type": "stream",
     "text": [
      "4\n"
     ]
    }
   ],
   "source": [
    "# Python program to find the sum of elements in a list?\n",
    "\n",
    "lis = [3,4,5,6]\n",
    "count = 0\n",
    "for i in lis:\n",
    "    count+=1\n",
    "print(count)"
   ]
  },
  {
   "cell_type": "code",
   "execution_count": 36,
   "id": "3e023395",
   "metadata": {},
   "outputs": [
    {
     "name": "stdout",
     "output_type": "stream",
     "text": [
      "560\n"
     ]
    }
   ],
   "source": [
    "# Pythom program to Multiply all numbers in the list?\n",
    "lis = [4,4,5,7]\n",
    "n = 1\n",
    "for i in lis:\n",
    "    n *= i\n",
    "print(n)"
   ]
  },
  {
   "cell_type": "code",
   "execution_count": 49,
   "id": "4a8533e1",
   "metadata": {},
   "outputs": [
    {
     "name": "stdout",
     "output_type": "stream",
     "text": [
      "6\n"
     ]
    }
   ],
   "source": [
    "list_ = [1, 2, 5, 4, 5, 6]\n",
    "lenn = 0\n",
    "for i in list_:\n",
    "    lenn +=1\n",
    "print(lenn)"
   ]
  },
  {
   "cell_type": "code",
   "execution_count": 56,
   "id": "fd13b7d3",
   "metadata": {},
   "outputs": [
    {
     "name": "stdout",
     "output_type": "stream",
     "text": [
      "lis__ 2 3 4 5 \n",
      "user inputlist__ 4\n",
      "['2', ' ', '3', ' ', ' ', '5', ' ']\n"
     ]
    }
   ],
   "source": [
    "\"\"\"Take inputs from the user to make a list. \n",
    "Again take one input from the user and search it in the list and delete that element, if found. \n",
    "Iterate over a list using for loop.\"\"\"\n",
    "\n",
    "lis = list(input(\"lis__ \"))\n",
    "user_input = list(input('user inputlist__ '))\n",
    "\n",
    "for i in lis:\n",
    "    if i in user_input:\n",
    "        lis.remove(i)\n",
    "        print(lis)\n",
    "    else:\n",
    "        \"Element is not present\""
   ]
  },
  {
   "cell_type": "code",
   "execution_count": 62,
   "id": "48e5eb05",
   "metadata": {},
   "outputs": [
    {
     "data": {
      "text/plain": [
       "[1, 4, 9, 16, 25, 64]"
      ]
     },
     "execution_count": 62,
     "metadata": {},
     "output_type": "execute_result"
    }
   ],
   "source": [
    "# u are given a list of integer elements. Make a new list that will store a square of elements of the previous list\n",
    "lis = [1,2,3,4,5,8]\n",
    "lis_com = [i ** 2 for i in lis ]\n",
    "new_lis.append(lis_com)\n",
    "lis_com"
   ]
  },
  {
   "cell_type": "code",
   "execution_count": 64,
   "id": "057f77dc",
   "metadata": {},
   "outputs": [
    {
     "name": "stdout",
     "output_type": "stream",
     "text": [
      "1\n",
      "4\n",
      "9\n",
      "16\n",
      "25\n",
      "64\n"
     ]
    }
   ],
   "source": [
    "lis = [1,2,3,4,5,8]\n",
    "\n",
    "for i in lis:\n",
    "    i = i**2\n",
    "    print(i)"
   ]
  },
  {
   "cell_type": "code",
   "execution_count": 89,
   "id": "aac41a3d",
   "metadata": {},
   "outputs": [
    {
     "name": "stdout",
     "output_type": "stream",
     "text": [
      "76\n",
      "76\n",
      "lis1 --> [0, 2, 4, 6, 8, 10, 12, 14, 16, 18, 20, 22, 24, 26, 28, 30, 32, 34, 36, 38, 40, 42, 44, 46, 48, 50, 52, 54, 56, 58, 60, 62, 64, 66, 68, 70, 72, 74, 76, 78, 80, 82, 84, 86, 88, 90, 92, 94, 96, 98, 100, 102, 104, 106, 108, 110, 112, 114, 116, 118, 120, 122, 124, 126, 128, 130, 132, 134, 136, 138, 140, 142, 144, 146, 148, 150] \n",
      "\n",
      "lis2 --> [1, 3, 5, 7, 9, 11, 13, 15, 17, 19, 21, 23, 25, 27, 29, 31, 33, 35, 37, 39, 41, 43, 45, 47, 49, 51, 53, 55, 57, 59, 61, 63, 65, 67, 69, 71, 73, 75, 77, 79, 81, 83, 85, 87, 89, 91, 93, 95, 97, 99, 101, 103, 105, 107, 109, 111, 113, 115, 117, 119, 121, 123, 125, 127, 129, 131, 133, 135, 137, 139, 141, 143, 145, 147, 149, 151]\n"
     ]
    },
    {
     "data": {
      "text/plain": [
       "76"
      ]
     },
     "execution_count": 89,
     "metadata": {},
     "output_type": "execute_result"
    }
   ],
   "source": [
    "# to create two lists, one containing all even numbers and the other containing all odd numbers between 0 to 151\n",
    "lis1 = []\n",
    "lis2 = []\n",
    "even = 0\n",
    "odd = 0\n",
    "for i in range(0,152):\n",
    "    if i % 2 ==0:\n",
    "        even +=1\n",
    "        lis1.append(i)\n",
    "    else:\n",
    "        odd +=1\n",
    "        lis2.append(i)\n",
    "print(even)\n",
    "print(odd)\n",
    "print(f'lis1 -->', lis1, '\\n')\n",
    "\n",
    "print( f'lis2 -->', lis2)\n",
    "len(lis1)"
   ]
  },
  {
   "cell_type": "code",
   "execution_count": 93,
   "id": "3df20619",
   "metadata": {},
   "outputs": [
    {
     "name": "stdout",
     "output_type": "stream",
     "text": [
      "['I']\n",
      "[3]\n",
      "[3.44]\n"
     ]
    }
   ],
   "source": [
    "# From a list containing ints, strings and floats, make three lists to store them separately?\n",
    "lis = ['I', 3, 3.44]\n",
    "strr = []\n",
    "intt = []\n",
    "floatt = []\n",
    "for i in lis:\n",
    "    if type(i) ==str:\n",
    "        strr.append(i)\n",
    "    elif type(i) == int:\n",
    "            intt.append(i)\n",
    "    else:\n",
    "        floatt.append(i)\n",
    "        print(strr)\n",
    "        print(intt)\n",
    "        print(floatt)"
   ]
  },
  {
   "cell_type": "code",
   "execution_count": 98,
   "id": "8e78254b",
   "metadata": {},
   "outputs": [
    {
     "name": "stdout",
     "output_type": "stream",
     "text": [
      "list contain a sublist ([[1, 4, 5]], 45, 89, 'rahul', [34, 8, 7], [56, 78, 90])\n"
     ]
    }
   ],
   "source": [
    "x = [[1,4,5]],45,89,'rahul',[34,8,7,],[56,78,90]\n",
    "for i in x:\n",
    "    if type(i) ==list:\n",
    "        pass\n",
    "print(\"list contain a sublist\",x)\n"
   ]
  },
  {
   "cell_type": "code",
   "execution_count": 103,
   "id": "aff27e73",
   "metadata": {},
   "outputs": [
    {
     "name": "stdout",
     "output_type": "stream",
     "text": [
      "the given list doesn't contains sublist\n",
      "the given list doesn't contains sublist\n",
      "the given list doesn't contains sublist\n",
      "the given list contains sublist\n"
     ]
    }
   ],
   "source": [
    "list2 = [10, 2, 509, [450, 240, 23], 12, 23, [14, 23], 21, 2]\n",
    "for element in list2:\n",
    "    if type(element) == list:\n",
    "        print(\"the given list contains sublist\")\n",
    "        break\n",
    "    else:\n",
    "        print(\"the given list doesn't contains sublist\")"
   ]
  },
  {
   "cell_type": "code",
   "execution_count": 104,
   "id": "2f050407",
   "metadata": {},
   "outputs": [
    {
     "name": "stdout",
     "output_type": "stream",
     "text": [
      "[[1], [1, 2], [1, 2, 3], [2], [2, 3], [3]]\n"
     ]
    }
   ],
   "source": [
    "def generate_sublists(lst):\n",
    "    sublists = []\n",
    "    n = len(lst)\n",
    "    # Iterate over all possible start positions\n",
    "    for start in range(n):\n",
    "        # Iterate over all possible end positions\n",
    "        for end in range(start + 1, n + 1):\n",
    "            sublists.append(lst[start:end])\n",
    "    return sublists\n",
    "\n",
    "# Example usage\n",
    "my_list = [1, 2, 3]\n",
    "all_sublists = generate_sublists(my_list)\n",
    "print(all_sublists)"
   ]
  },
  {
   "cell_type": "code",
   "execution_count": 105,
   "id": "deeccd46",
   "metadata": {},
   "outputs": [
    {
     "name": "stdout",
     "output_type": "stream",
     "text": [
      "113350\n"
     ]
    }
   ],
   "source": [
    "def list_to_single_integer(lst):\n",
    "    # Convert each integer in the list to a string\n",
    "    str_lst = [str(num) for num in lst]\n",
    "    # Concatenate the strings and convert back to an integer\n",
    "    single_integer = int(''.join(str_lst))\n",
    "    return single_integer\n",
    "\n",
    "# Example usage\n",
    "my_list = [11, 33, 50]\n",
    "result = list_to_single_integer(my_list)\n",
    "print(result)"
   ]
  },
  {
   "cell_type": "code",
   "execution_count": null,
   "id": "27b8d151",
   "metadata": {},
   "outputs": [],
   "source": []
  },
  {
   "cell_type": "code",
   "execution_count": 121,
   "id": "eb439429",
   "metadata": {},
   "outputs": [
    {
     "name": "stdout",
     "output_type": "stream",
     "text": [
      "[21, 19, 16, 10, 22]\n"
     ]
    }
   ],
   "source": [
    "# You are given a list of integers. You are asked to make a list by running through elements\n",
    "# of the list by adding all elements greater and itself.\n",
    "# i.e. Say given list is [2,4,6,10,1] resultant list will be [22,20,10,23].\n",
    "\n",
    "# For 1st element 2 ->> these are greater (4+6+10) values and 2 itself so on adding becomes 22.\n",
    "# For 2nd element 4 ->> greater elements are (6, 10) and 4 itself, so on adding 20\n",
    "# like wise for all other elememts.\n",
    "# [2,4,6,10,1]-->[22,20,16,10,23]\n",
    "\n",
    "\n",
    "lis  = [2,3,6,10,1]\n",
    "lis1 = []\n",
    "\n",
    "for i in lis:\n",
    "    summ = 0\n",
    "    for j in lis:\n",
    "        if i <= j:\n",
    "            summ += j\n",
    "    lis1.append(summ)\n",
    "print(lis1)"
   ]
  },
  {
   "cell_type": "code",
   "execution_count": null,
   "id": "042ea15d",
   "metadata": {},
   "outputs": [],
   "source": [
    "brus = [2,4,6,10,1]\n",
    "new = []\n",
    "\n",
    "for i in brus:\n",
    "    su = 0\n",
    "    for j in brus:\n",
    "        if i <=j:\n",
    "            su += j\n",
    "    new.append(su)\n",
    "print(new)"
   ]
  },
  {
   "cell_type": "code",
   "execution_count": 133,
   "id": "7359135b",
   "metadata": {},
   "outputs": [
    {
     "name": "stdout",
     "output_type": "stream",
     "text": [
      "CampusX is a channel\n",
      "for data-science\n",
      "aspirants.\n"
     ]
    }
   ],
   "source": [
    "inp = ['CampusX is a channel', 'for data-science', 'aspirants.']\n",
    "# O/p --['CampusX', 'is', 'a', 'channel', 'for', 'data-science', 'aspirants.']\n",
    "op = []\n",
    "for i in inp:\n",
    "    i.split\n",
    "    print(i)"
   ]
  },
  {
   "cell_type": "code",
   "execution_count": 127,
   "id": "b0509ae5",
   "metadata": {},
   "outputs": [
    {
     "name": "stdout",
     "output_type": "stream",
     "text": [
      "['CampusX', 'is', 'a', 'channel', 'for', 'data-science', 'aspirants.']\n"
     ]
    }
   ],
   "source": [
    "inp = ['CampusX is a channel', 'for data-science', 'aspirants.']\n",
    "\n",
    "output = []\n",
    "for sentence in inp:\n",
    "    output.extend(sentence.split())\n",
    "\n",
    "print(output)"
   ]
  },
  {
   "cell_type": "code",
   "execution_count": 140,
   "id": "a36c16d3",
   "metadata": {},
   "outputs": [
    {
     "name": "stdout",
     "output_type": "stream",
     "text": [
      "[1, 2, 3, 4, 5, 7, 8, 9]\n"
     ]
    }
   ],
   "source": [
    "# Write a program that can perform union operation on 2 lists\n",
    "\n",
    "li = [1,2,3,4,5,1]\n",
    "lii = [2,3,5,7,8, 9]\n",
    "li1 = []\n",
    "for i in li:\n",
    "    if i not in li1:\n",
    "        li1.append(i)\n",
    "        \n",
    "for j in lii:\n",
    "    if j not in li1:\n",
    "        li1.append(j)\n",
    "print(li1)"
   ]
  },
  {
   "cell_type": "code",
   "execution_count": 141,
   "id": "8d1d2317",
   "metadata": {},
   "outputs": [
    {
     "name": "stdout",
     "output_type": "stream",
     "text": [
      "common item list1 and list2 is:  [6, 7, 8, 27, 24, 75]\n"
     ]
    }
   ],
   "source": [
    "list1 = [1, 2, 3, 6, 7, 8, 27, 24, 23, 75, 12]\n",
    "list2 = [6, 7, 8, 81, 27, 53, 24, 40, 623, 75]\n",
    "\n",
    "common_item = []\n",
    "for i in list1:\n",
    "    for j in list2:\n",
    "        if i == j:\n",
    "            common_item.append(i)\n",
    "print(\"common item list1 and list2 is: \",common_item)"
   ]
  },
  {
   "cell_type": "code",
   "execution_count": 13,
   "id": "4204bb06",
   "metadata": {},
   "outputs": [
    {
     "name": "stdout",
     "output_type": "stream",
     "text": [
      "Enter transaction (D/W amount) or press Enter to finish: D 4\n",
      "Enter transaction (D/W amount) or press Enter to finish: W 7\n",
      "Enter transaction (D/W amount) or press Enter to finish: \n",
      "-3\n"
     ]
    }
   ],
   "source": [
    "### Write a program that computes the net amount of a bank account based a transaction log from console input. \n",
    "# The transaction log format is shown as following:\n",
    "# D 100\n",
    "# W 200\n",
    "\n",
    "# D means deposit while W means withdrawal.\n",
    "# Suppose the following input is supplied to the program:\n",
    "# D 300\n",
    "# D 300\n",
    "# W 200\n",
    "# D 100\n",
    "# Then, the output should be:\n",
    "# 500\n",
    "\n",
    "# Hints:\n",
    "# In case of input data being supplied to the question, it should be assumed to be a console input.\n",
    "\n",
    "# Initialize net amount\n",
    "net_amount = 0\n",
    "\n",
    "# Iterate over each transaction from console input\n",
    "while True:\n",
    "    # Take input for transaction\n",
    "    transaction = input(\"Enter transaction (D/W amount) or press Enter to finish: \")\n",
    "    \n",
    "    # If no input is given, break out of the loop\n",
    "    if not transaction:\n",
    "        break\n",
    "    \n",
    "    # Split transaction into type and amount\n",
    "    transaction_type, amount = transaction.split()\n",
    "    \n",
    "    # Convert amount to integer\n",
    "    amount = int(amount)\n",
    "    \n",
    "    # Update net amount based on transaction type\n",
    "    if transaction_type == 'D':\n",
    "        net_amount += amount\n",
    "    elif transaction_type == 'W':\n",
    "        net_amount -= amount\n",
    "\n",
    "# Print the net amount\n",
    "print(net_amount)"
   ]
  },
  {
   "cell_type": "code",
   "execution_count": null,
   "id": "eff9a829",
   "metadata": {},
   "outputs": [],
   "source": []
  },
  {
   "cell_type": "code",
   "execution_count": null,
   "id": "bd33601f",
   "metadata": {},
   "outputs": [],
   "source": []
  },
  {
   "cell_type": "code",
   "execution_count": null,
   "id": "d5b7546b",
   "metadata": {},
   "outputs": [],
   "source": []
  }
 ],
 "metadata": {
  "kernelspec": {
   "display_name": "Python 3 (ipykernel)",
   "language": "python",
   "name": "python3"
  },
  "language_info": {
   "codemirror_mode": {
    "name": "ipython",
    "version": 3
   },
   "file_extension": ".py",
   "mimetype": "text/x-python",
   "name": "python",
   "nbconvert_exporter": "python",
   "pygments_lexer": "ipython3",
   "version": "3.11.3"
  }
 },
 "nbformat": 4,
 "nbformat_minor": 5
}
